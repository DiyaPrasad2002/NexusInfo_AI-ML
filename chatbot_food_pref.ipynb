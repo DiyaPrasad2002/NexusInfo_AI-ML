{
 "cells": [
  {
   "cell_type": "markdown",
   "id": "6e2e25be",
   "metadata": {},
   "source": [
    "### CHATBOT FOR FOOD PREFERENCES"
   ]
  },
  {
   "cell_type": "code",
   "execution_count": 11,
   "id": "04d65216",
   "metadata": {},
   "outputs": [],
   "source": [
    "def food_pref_info():\n",
    "    print(\"Hello there! What would you like to eat?\")\n",
    "    print(\"Enter the number against the food tastes :)\")\n",
    "    print(\"1. Sweet\")\n",
    "    print(\"2. Spicy\")\n",
    "    print(\"3. Street Food\")\n",
    "    \n",
    "    num = int(input(\"Enter the number \"))\n",
    "    \n",
    "    if(num == 1):\n",
    "        print(\"Suggest us your sweet favorite dish\")\n",
    "        sweet = input(\"the sweet dish : \")\n",
    "        print(\"How sweet would you like to have? (Less, Medium, High)\")\n",
    "        sweet_level = input(\"degree of sweet : \")\n",
    "        print(f\"Finding the most suitable restaurant for {sweet_level} sweet {sweet} dish..\")\n",
    "    if(num == 2):\n",
    "        print(\"Suggest us your spicy favorite dish\")\n",
    "        spicy = input(\"the spicy dish : \")\n",
    "        print(\"How spicy would you like to have? (Less, Medium, High)\")\n",
    "        spice_level = input(\"degree of spice : \")\n",
    "        print(f\"Finding the most suitable restaurant for {spice_level} sweet {spicy} dish..\")\n",
    "    if(num == 3):\n",
    "        print(\"Suggest us your best street food\")\n",
    "        street = input(\"the street food : \")\n",
    "        print(\"How spicy would you like to have? (Less, Medium, High)\")\n",
    "        spice_level = input(\"degree of spice : \")\n",
    "        print(f\"Finding the most suitable restaurant for {spice_level} sweet {street} dish..\")\n",
    "\n",
    "    print(\"Please enter a valid number\")"
   ]
  },
  {
   "cell_type": "code",
   "execution_count": 12,
   "id": "8821f2fd",
   "metadata": {},
   "outputs": [
    {
     "name": "stdout",
     "output_type": "stream",
     "text": [
      "Hello there! What would you like to eat?\n",
      "Enter the number against the food tastes :)\n",
      "1. Sweet\n",
      "2. Spicy\n",
      "3. Street Food\n",
      "Enter the number 6\n",
      "Please enter a valid number\n"
     ]
    }
   ],
   "source": [
    "food_pref_info()"
   ]
  },
  {
   "cell_type": "code",
   "execution_count": null,
   "id": "2f4fbe8d",
   "metadata": {},
   "outputs": [],
   "source": []
  }
 ],
 "metadata": {
  "kernelspec": {
   "display_name": "Python 3 (ipykernel)",
   "language": "python",
   "name": "python3"
  },
  "language_info": {
   "codemirror_mode": {
    "name": "ipython",
    "version": 3
   },
   "file_extension": ".py",
   "mimetype": "text/x-python",
   "name": "python",
   "nbconvert_exporter": "python",
   "pygments_lexer": "ipython3",
   "version": "3.9.12"
  }
 },
 "nbformat": 4,
 "nbformat_minor": 5
}
