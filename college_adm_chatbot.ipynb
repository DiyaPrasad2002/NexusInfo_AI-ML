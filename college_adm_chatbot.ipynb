{
 "cells": [
  {
   "cell_type": "code",
   "execution_count": 1,
   "id": "c68b7ce9",
   "metadata": {},
   "outputs": [],
   "source": [
    "class CollegeAdmissionChatbot:\n",
    "    def __init__(self):\n",
    "        self.qna_pairs = {\n",
    "            \"1\": {\n",
    "                \"question\": \"What are the admission requirements?\",\n",
    "                \"answer\": \"Admission requirements vary by college, but commonly include high school transcripts, standardized test scores, letters of recommendation, and a personal statement.\"\n",
    "            },\n",
    "            \"2\": {\n",
    "                \"question\": \"How do I apply for admission?\",\n",
    "                \"answer\": \"You can typically apply for admission online through the college's official website. Make sure to check the specific application deadlines and requirements for each college you're interested in.\"\n",
    "            },\n",
    "            \"3\": {\n",
    "                \"question\": \"What majors does the college offer?\",\n",
    "                \"answer\": \"Colleges usually offer a variety of majors. You can find information about the available majors on the college's website or by contacting the admissions office directly.\"\n",
    "            },\n",
    "            \"4\": {\n",
    "                \"question\": \"Is financial aid available?\",\n",
    "                \"answer\": \"Yes, many colleges offer financial aid to eligible students. To apply for financial aid, you usually need to complete the Free Application for Federal Student Aid (FAFSA) and any additional forms required by the college.\"\n",
    "            },\n",
    "            \"5\": {\n",
    "                \"question\": \"What is the cost of tuition?\",\n",
    "                \"answer\": \"Tuition costs vary by college. You can find information about tuition and other fees on the college's website or by contacting the admissions office. Additionally, inquire about any available scholarships or grants.\"\n",
    "            },\n",
    "            \"6\": {\n",
    "                \"question\": \"Can I schedule a campus tour?\",\n",
    "                \"answer\": \"Yes, many colleges offer campus tours. You can schedule a tour through the college's admissions office or check for available tour dates on their website. Campus tours provide a great opportunity to explore the campus and ask questions.\"\n",
    "            },\n",
    "            \"7\": {\n",
    "                \"question\": \"Are there housing options for students?\",\n",
    "                \"answer\": \"Yes, most colleges provide housing options for students. You can find information about on-campus and off-campus housing on the college's website or by contacting the housing department.\"\n",
    "            },\n",
    "            \"8\": {\n",
    "                \"question\": \"What is the deadline for submitting applications?\",\n",
    "                \"answer\": \"Application deadlines vary by college and can differ for early decision, regular decision, and transfer applications. Check the specific deadlines for the colleges you're interested in to ensure you submit your application on time.\"\n",
    "            }\n",
    "        }\n",
    "\n",
    "    def get_response(self, user_input):\n",
    "        question_id = self.find_matching_question(user_input)\n",
    "        if question_id:\n",
    "            return self.qna_pairs[question_id][\"answer\"]\n",
    "        else:\n",
    "            return \"I'm sorry, I don't understand that question. Please ask something else.\"\n",
    "\n",
    "    def find_matching_question(self, user_input):\n",
    "        for question_id, data in self.qna_pairs.items():\n",
    "            if user_input.lower() in data[\"question\"].lower():\n",
    "                return question_id\n",
    "        return None\n",
    "\n",
    "\n",
    "    \n",
    "def main():\n",
    "    chatbot = CollegeAdmissionChatbot()\n",
    "\n",
    "    print(\"College Admission Chatbot: Hi! How can I help you with your college admission queries? Type 'exit' to end the conversation.\")\n",
    "\n",
    "    while True:\n",
    "        user_input = input(\"You: \")\n",
    "        \n",
    "        if user_input.lower() == 'exit':\n",
    "            print(\"College Admission Chatbot: Goodbye!\")\n",
    "            break\n",
    "\n",
    "        response = chatbot.get_response(user_input)\n",
    "        print(\"College Admission Chatbot:\", response)\n"
   ]
  },
  {
   "cell_type": "code",
   "execution_count": 2,
   "id": "0cf29638",
   "metadata": {},
   "outputs": [
    {
     "name": "stdout",
     "output_type": "stream",
     "text": [
      "College Admission Chatbot: Hi! How can I help you with your college admission queries? Type 'exit' to end the conversation.\n",
      "You: exit\n",
      "College Admission Chatbot: Goodbye!\n"
     ]
    }
   ],
   "source": [
    "main()"
   ]
  },
  {
   "cell_type": "code",
   "execution_count": 3,
   "id": "47ce8e68",
   "metadata": {},
   "outputs": [
    {
     "name": "stdout",
     "output_type": "stream",
     "text": [
      "College Admission Chatbot: Hi! How can I help you with your college admission queries? Type 'exit' to end the conversation.\n",
      "You: What courses does the college offer?\n",
      "College Admission Chatbot: I'm sorry, I don't understand that question. Please ask something else.\n",
      "You: What majos does the college offer?\n",
      "College Admission Chatbot: I'm sorry, I don't understand that question. Please ask something else.\n",
      "You: What majors does the college offer?\n",
      "College Admission Chatbot: Colleges usually offer a variety of majors. You can find information about the available majors on the college's website or by contacting the admissions office directly.\n",
      "You: What is the deadline for submitting applications?\n",
      "College Admission Chatbot: Application deadlines vary by college and can differ for early decision, regular decision, and transfer applications. Check the specific deadlines for the colleges you're interested in to ensure you submit your application on time.\n",
      "You: exit\n",
      "College Admission Chatbot: Goodbye!\n"
     ]
    }
   ],
   "source": [
    "main()"
   ]
  },
  {
   "cell_type": "code",
   "execution_count": null,
   "id": "56af8b10",
   "metadata": {},
   "outputs": [],
   "source": []
  }
 ],
 "metadata": {
  "kernelspec": {
   "display_name": "Python 3 (ipykernel)",
   "language": "python",
   "name": "python3"
  },
  "language_info": {
   "codemirror_mode": {
    "name": "ipython",
    "version": 3
   },
   "file_extension": ".py",
   "mimetype": "text/x-python",
   "name": "python",
   "nbconvert_exporter": "python",
   "pygments_lexer": "ipython3",
   "version": "3.9.12"
  }
 },
 "nbformat": 4,
 "nbformat_minor": 5
}
